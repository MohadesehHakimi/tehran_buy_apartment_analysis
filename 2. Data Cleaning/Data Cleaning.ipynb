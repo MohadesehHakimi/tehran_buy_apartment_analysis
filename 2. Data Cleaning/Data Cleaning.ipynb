{
 "cells": [
  {
   "cell_type": "code",
   "execution_count": 73,
   "id": "initial_id",
   "metadata": {
    "collapsed": true,
    "ExecuteTime": {
     "end_time": "2024-12-25T13:18:44.917228928Z",
     "start_time": "2024-12-25T13:18:44.558750042Z"
    }
   },
   "outputs": [],
   "source": [
    "import pandas as pd"
   ]
  },
  {
   "cell_type": "code",
   "execution_count": 74,
   "outputs": [
    {
     "data": {
      "text/plain": "                            link  \\\n0  https://divar.ir/v/-/wZmAzMs2   \n1  https://divar.ir/v/-/wZl0tBJo   \n2  https://divar.ir/v/-/wZmcALyN   \n3  https://divar.ir/v/-/wZgQZf-8   \n4  https://divar.ir/v/-/wZXc6Q-z   \n\n                                             title      address  area   age  \\\n0                 ۹۵متر/ فول امکانات / فول بازسازی        ایران    95  1383   \n1  اپارتمان۵۰متر۱خواب نوسازتکواحدی گیلکی آهنگ مینا         مینا    50  1403   \n2                          ۱۱۵ متر دوخواب شیک و...    یوسف‌آباد   115  1398   \n3                               تکواحدی با پارکینگ  شهرک ولیعصر    51  1390   \n4             نیاوران ۳۵۰ متر/سه جهت نور گیر/۴تراس      نیاوران   350  1390   \n\n  rooms  total_price  price_per_meter   floor  elevator  parking  warehouse  \\\n0     2   8000000000         84210000       3      True     True       True   \n1     1   4400000000         88000000  3 از 4      True     True      False   \n2     2  15890000000        138173000       4      True     True       True   \n3     1   2000000000         39215000  2 از 4     False     True       True   \n4     4  52800000000        150857000       5      True     True       True   \n\n   longitude   latitude  \n0  51.444726  35.684725  \n1  51.449087  35.670433  \n2        NaN        NaN  \n3  51.345065  35.648787  \n4  51.452451  35.812732  ",
      "text/html": "<div>\n<style scoped>\n    .dataframe tbody tr th:only-of-type {\n        vertical-align: middle;\n    }\n\n    .dataframe tbody tr th {\n        vertical-align: top;\n    }\n\n    .dataframe thead th {\n        text-align: right;\n    }\n</style>\n<table border=\"1\" class=\"dataframe\">\n  <thead>\n    <tr style=\"text-align: right;\">\n      <th></th>\n      <th>link</th>\n      <th>title</th>\n      <th>address</th>\n      <th>area</th>\n      <th>age</th>\n      <th>rooms</th>\n      <th>total_price</th>\n      <th>price_per_meter</th>\n      <th>floor</th>\n      <th>elevator</th>\n      <th>parking</th>\n      <th>warehouse</th>\n      <th>longitude</th>\n      <th>latitude</th>\n    </tr>\n  </thead>\n  <tbody>\n    <tr>\n      <th>0</th>\n      <td>https://divar.ir/v/-/wZmAzMs2</td>\n      <td>۹۵متر/ فول امکانات / فول بازسازی</td>\n      <td>ایران</td>\n      <td>95</td>\n      <td>1383</td>\n      <td>2</td>\n      <td>8000000000</td>\n      <td>84210000</td>\n      <td>3</td>\n      <td>True</td>\n      <td>True</td>\n      <td>True</td>\n      <td>51.444726</td>\n      <td>35.684725</td>\n    </tr>\n    <tr>\n      <th>1</th>\n      <td>https://divar.ir/v/-/wZl0tBJo</td>\n      <td>اپارتمان۵۰متر۱خواب نوسازتکواحدی گیلکی آهنگ مینا</td>\n      <td>مینا</td>\n      <td>50</td>\n      <td>1403</td>\n      <td>1</td>\n      <td>4400000000</td>\n      <td>88000000</td>\n      <td>3 از 4</td>\n      <td>True</td>\n      <td>True</td>\n      <td>False</td>\n      <td>51.449087</td>\n      <td>35.670433</td>\n    </tr>\n    <tr>\n      <th>2</th>\n      <td>https://divar.ir/v/-/wZmcALyN</td>\n      <td>۱۱۵ متر دوخواب شیک و...</td>\n      <td>یوسف‌آباد</td>\n      <td>115</td>\n      <td>1398</td>\n      <td>2</td>\n      <td>15890000000</td>\n      <td>138173000</td>\n      <td>4</td>\n      <td>True</td>\n      <td>True</td>\n      <td>True</td>\n      <td>NaN</td>\n      <td>NaN</td>\n    </tr>\n    <tr>\n      <th>3</th>\n      <td>https://divar.ir/v/-/wZgQZf-8</td>\n      <td>تکواحدی با پارکینگ</td>\n      <td>شهرک ولیعصر</td>\n      <td>51</td>\n      <td>1390</td>\n      <td>1</td>\n      <td>2000000000</td>\n      <td>39215000</td>\n      <td>2 از 4</td>\n      <td>False</td>\n      <td>True</td>\n      <td>True</td>\n      <td>51.345065</td>\n      <td>35.648787</td>\n    </tr>\n    <tr>\n      <th>4</th>\n      <td>https://divar.ir/v/-/wZXc6Q-z</td>\n      <td>نیاوران ۳۵۰ متر/سه جهت نور گیر/۴تراس</td>\n      <td>نیاوران</td>\n      <td>350</td>\n      <td>1390</td>\n      <td>4</td>\n      <td>52800000000</td>\n      <td>150857000</td>\n      <td>5</td>\n      <td>True</td>\n      <td>True</td>\n      <td>True</td>\n      <td>51.452451</td>\n      <td>35.812732</td>\n    </tr>\n  </tbody>\n</table>\n</div>"
     },
     "execution_count": 74,
     "metadata": {},
     "output_type": "execute_result"
    }
   ],
   "source": [
    "# Load the data\n",
    "df = pd.read_csv('../1. Scrape/ads.csv')\n",
    "df.head()"
   ],
   "metadata": {
    "collapsed": false,
    "ExecuteTime": {
     "end_time": "2024-12-25T13:18:45.285377013Z",
     "start_time": "2024-12-25T13:18:44.590614505Z"
    }
   },
   "id": "c254c6f85d64e047"
  },
  {
   "cell_type": "code",
   "execution_count": 75,
   "outputs": [
    {
     "name": "stdout",
     "output_type": "stream",
     "text": [
      "<class 'pandas.core.frame.DataFrame'>\n",
      "RangeIndex: 9577 entries, 0 to 9576\n",
      "Data columns (total 14 columns):\n",
      " #   Column           Non-Null Count  Dtype  \n",
      "---  ------           --------------  -----  \n",
      " 0   link             9577 non-null   object \n",
      " 1   title            9577 non-null   object \n",
      " 2   address          9577 non-null   object \n",
      " 3   area             9577 non-null   int64  \n",
      " 4   age              9577 non-null   object \n",
      " 5   rooms            9577 non-null   object \n",
      " 6   total_price      9577 non-null   int64  \n",
      " 7   price_per_meter  9577 non-null   int64  \n",
      " 8   floor            9577 non-null   object \n",
      " 9   elevator         9577 non-null   bool   \n",
      " 10  parking          9577 non-null   bool   \n",
      " 11  warehouse        9577 non-null   bool   \n",
      " 12  longitude        7824 non-null   float64\n",
      " 13  latitude         7824 non-null   float64\n",
      "dtypes: bool(3), float64(2), int64(3), object(6)\n",
      "memory usage: 851.2+ KB\n"
     ]
    }
   ],
   "source": [
    "df.info()"
   ],
   "metadata": {
    "collapsed": false,
    "ExecuteTime": {
     "end_time": "2024-12-25T13:18:45.286172937Z",
     "start_time": "2024-12-25T13:18:44.700811063Z"
    }
   },
   "id": "cee6a1c6b78f2767"
  },
  {
   "cell_type": "code",
   "execution_count": 76,
   "outputs": [
    {
     "data": {
      "text/plain": "                area   total_price  price_per_meter    longitude     latitude\ncount    9577.000000  9.577000e+03     9.577000e+03  7824.000000  7824.000000\nmean      170.804845  1.317370e+10     1.053560e+08    51.382206    35.723658\nstd      6143.585901  2.497810e+10     7.131870e+07     0.127218     0.060613\nmin         1.000000  1.110000e+02     0.000000e+00    51.124653    32.435613\n25%        63.000000  3.900000e+09     6.074000e+07    51.327518    35.692147\n50%        88.000000  7.800000e+09     9.318100e+07    51.374981    35.729518\n75%       122.000000  1.500000e+10     1.333330e+08    51.449528    35.758036\nmax    600000.000000  1.000000e+12     2.222222e+09    59.510125    36.317200",
      "text/html": "<div>\n<style scoped>\n    .dataframe tbody tr th:only-of-type {\n        vertical-align: middle;\n    }\n\n    .dataframe tbody tr th {\n        vertical-align: top;\n    }\n\n    .dataframe thead th {\n        text-align: right;\n    }\n</style>\n<table border=\"1\" class=\"dataframe\">\n  <thead>\n    <tr style=\"text-align: right;\">\n      <th></th>\n      <th>area</th>\n      <th>total_price</th>\n      <th>price_per_meter</th>\n      <th>longitude</th>\n      <th>latitude</th>\n    </tr>\n  </thead>\n  <tbody>\n    <tr>\n      <th>count</th>\n      <td>9577.000000</td>\n      <td>9.577000e+03</td>\n      <td>9.577000e+03</td>\n      <td>7824.000000</td>\n      <td>7824.000000</td>\n    </tr>\n    <tr>\n      <th>mean</th>\n      <td>170.804845</td>\n      <td>1.317370e+10</td>\n      <td>1.053560e+08</td>\n      <td>51.382206</td>\n      <td>35.723658</td>\n    </tr>\n    <tr>\n      <th>std</th>\n      <td>6143.585901</td>\n      <td>2.497810e+10</td>\n      <td>7.131870e+07</td>\n      <td>0.127218</td>\n      <td>0.060613</td>\n    </tr>\n    <tr>\n      <th>min</th>\n      <td>1.000000</td>\n      <td>1.110000e+02</td>\n      <td>0.000000e+00</td>\n      <td>51.124653</td>\n      <td>32.435613</td>\n    </tr>\n    <tr>\n      <th>25%</th>\n      <td>63.000000</td>\n      <td>3.900000e+09</td>\n      <td>6.074000e+07</td>\n      <td>51.327518</td>\n      <td>35.692147</td>\n    </tr>\n    <tr>\n      <th>50%</th>\n      <td>88.000000</td>\n      <td>7.800000e+09</td>\n      <td>9.318100e+07</td>\n      <td>51.374981</td>\n      <td>35.729518</td>\n    </tr>\n    <tr>\n      <th>75%</th>\n      <td>122.000000</td>\n      <td>1.500000e+10</td>\n      <td>1.333330e+08</td>\n      <td>51.449528</td>\n      <td>35.758036</td>\n    </tr>\n    <tr>\n      <th>max</th>\n      <td>600000.000000</td>\n      <td>1.000000e+12</td>\n      <td>2.222222e+09</td>\n      <td>59.510125</td>\n      <td>36.317200</td>\n    </tr>\n  </tbody>\n</table>\n</div>"
     },
     "execution_count": 76,
     "metadata": {},
     "output_type": "execute_result"
    }
   ],
   "source": [
    "df.describe()"
   ],
   "metadata": {
    "collapsed": false,
    "ExecuteTime": {
     "end_time": "2024-12-25T13:18:45.287415998Z",
     "start_time": "2024-12-25T13:18:44.701148214Z"
    }
   },
   "id": "b0930d513aee4149"
  },
  {
   "cell_type": "code",
   "execution_count": 77,
   "outputs": [
    {
     "data": {
      "text/plain": "(9577, 14)"
     },
     "execution_count": 77,
     "metadata": {},
     "output_type": "execute_result"
    }
   ],
   "source": [
    "df.shape"
   ],
   "metadata": {
    "collapsed": false,
    "ExecuteTime": {
     "end_time": "2024-12-25T13:18:45.324153008Z",
     "start_time": "2024-12-25T13:18:44.733496533Z"
    }
   },
   "id": "eb6731ea91555574"
  },
  {
   "cell_type": "code",
   "execution_count": 78,
   "outputs": [
    {
     "data": {
      "text/plain": "link                  0\ntitle                 0\naddress               0\narea                  0\nage                   0\nrooms                 0\ntotal_price           0\nprice_per_meter       0\nfloor                 0\nelevator              0\nparking               0\nwarehouse             0\nlongitude          1753\nlatitude           1753\ndtype: int64"
     },
     "execution_count": 78,
     "metadata": {},
     "output_type": "execute_result"
    }
   ],
   "source": [
    "# Check for missing values\n",
    "df.isnull().sum()"
   ],
   "metadata": {
    "collapsed": false,
    "ExecuteTime": {
     "end_time": "2024-12-25T13:18:45.324857813Z",
     "start_time": "2024-12-25T13:18:44.774006202Z"
    }
   },
   "id": "5efd91b9d2ce31bd"
  },
  {
   "cell_type": "markdown",
   "source": [
    "There are 1753 houses without a location specified. It will not affect the analysis, so we will keep them."
   ],
   "metadata": {
    "collapsed": false
   },
   "id": "81f4b839d8328793"
  },
  {
   "cell_type": "code",
   "execution_count": 79,
   "outputs": [
    {
     "data": {
      "text/plain": "0"
     },
     "execution_count": 79,
     "metadata": {},
     "output_type": "execute_result"
    }
   ],
   "source": [
    "# Check for duplicates\n",
    "df.duplicated().sum()"
   ],
   "metadata": {
    "collapsed": false,
    "ExecuteTime": {
     "end_time": "2024-12-25T13:18:45.325429440Z",
     "start_time": "2024-12-25T13:18:44.774269215Z"
    }
   },
   "id": "f3af69af617c3562"
  },
  {
   "cell_type": "markdown",
   "source": [
    "No duplicate rows found."
   ],
   "metadata": {
    "collapsed": false
   },
   "id": "9b854de5737fc942"
  },
  {
   "cell_type": "markdown",
   "source": [
    "Map addresses to regions"
   ],
   "metadata": {
    "collapsed": false
   },
   "id": "5bad1d707672e9ea"
  },
  {
   "cell_type": "code",
   "execution_count": 80,
   "outputs": [],
   "source": [
    "regions = {\n",
    "    1: ['نیاوران', 'ولنجک', 'زعفرانیه', 'ازگل', 'قیطریه', 'اراج', 'فرمانیه', 'سوهانک', 'محمودیه', 'شهرک نفت (منطقه ۱)', 'چیذر', 'دزاشیب', 'دربند', 'هزارسنگ', 'گلاب دره', 'دارآباد', 'حصار بوعلی', 'حکمت', 'شهرک محلاتی', 'باغ فردوس', 'درکه', 'تجریش', 'امامزاده قاسم', 'جماران', 'کاشانک', 'اوین', 'الهیه', 'کامرانیه', 'آجودانیه'],\n",
    "    2: ['پونک', 'ستارخان', 'مرزداران', 'گیشا (کوی نصر)', 'صادقیه', 'شریف', 'سعادت‌آباد', 'سپهر', 'دریان‌نو', 'طرشت', 'توحید', 'شهرآرا', 'تهران‌ویلا', 'آسمان', 'ایوانک', 'شادمهر', 'شهرک ژاندارمری', 'شهرک غرب', 'دریا', 'دانشگاه شریف', 'پاتریس لومومبا', 'کوی فراز', 'پرواز'],\n",
    "    3: ['دروس', 'امانیه', 'اختیاریه', 'قلهک', 'سیدخندان', 'ونک', 'زرگنده', 'قبا', 'میرداماد', 'درب دوم', 'جلفا', 'ظفر', 'جردن', 'ده‌ونک', 'شیرازی'],\n",
    "    4: ['شهرک ولیعصر', 'تهرانپارس شرقی', 'مبارک‌آباد بهشتی', 'اوقاف', 'شیان', 'تهرانپارس غربی', 'دانشگاه علم و صنعت', 'حکیمیه', 'قاسم‌آباد', 'کاظم‌آباد', 'قنات‌کوثر', 'شمیران‌نو', 'لویزان', 'مجیدآباد', 'خاک سفید', 'حسین‌آباد', 'کوهک', 'پلیس', 'هروی', 'شمس‌آباد', 'جوادیه تهرانپارس', 'شهرک امید', 'اتحاد'],\n",
    "    5: ['شهر زیبا', 'سازمان برنامه', 'جنت‌آباد جنوبی', 'باغ فیض', 'ارم', 'جنت‌آباد مرکزی', 'شهرک نفت (منطقه ۵)', 'اباذر', 'شهران شمالی', 'اندیشه (شهر زیبا)', 'جنت‌آباد شمالی', 'سازمان آب', 'المهدی', 'شهران جنوبی', 'حصارک', 'کوی بیمه', 'کن', 'بهاران', 'اکباتان', 'شهرک آپادانا', 'مرادآباد', 'کوی مهران', 'شهرک پرواز', 'شاهین', 'شهرک کوهسار'],\n",
    "    6: ['امیرآباد', 'یوسف‌آباد', 'جمال‌زاده', 'سنایی', 'فاطمی', 'شهرک والفجر (منطقه ۶)', 'بلوار کشاورز', 'ایرانشهر', 'بهجت‌آباد', 'جهاد', 'گاندی', 'نجات اللهی', 'میدان ولیعصر', 'توانیر', 'قزل قلعه', 'نصرت', 'آرژانتین', 'دانشگاه تهران'],\n",
    "    7: ['ارامنه', 'سهروردی', 'گرگان', 'خواجه نظام الملک', 'نظام‌آباد', 'نیلوفر', 'بهار', 'دبستان', 'حشمتیه', 'خواجه نصیر طوسی', 'امام حسین(ع)', 'عباس‌آباد', 'شارق شرقی', 'خاقانی'],\n",
    "    8: ['دردشت', 'فدک', 'مدائن', 'هفت حوض', 'نارمک', 'سبلان', 'وحیدیه', 'تسلیحات', 'کرمان', 'مجیدیه', 'زرکش', 'لشکر', 'نارمک جنوبی'],\n",
    "    9: ['دکتر هوشیار', 'مهرآباد جنوبی', 'استاد معین', 'شهید دستغیب', 'شمشیری', 'سرآسیاب مهرآباد', 'طوس'],\n",
    "    10: ['سلسبیل', 'سلیمانی', 'بریانک', 'هفت چنار', 'جی', 'هاشمی', 'زنجان', 'نواب', 'آذربایجان', 'جیحون', 'شبیری'],\n",
    "    11: ['اسکندری', 'سلامت', 'شهرک راه‌آهن', 'جمهوری', 'میدان انقلاب', 'امیریه', 'شیخ هادی', 'قلمستان', 'مخصوص', 'منیریه', 'میدان حر', 'حسن‌آباد', 'گمرک', 'امیر بهادر'],\n",
    "    12: ['ایران', 'سنگلج', 'کوثر', 'دروازه شمیران', 'بهارستان', 'فردوسی', 'سیروس', 'بازار', 'قیام', 'مولوی', 'آبشار'],\n",
    "    13: ['نیرو هوایی', 'پیروزی', 'دهقان', 'حافظیه', 'آشتیانی', 'زاهد گیلانی', 'امامت', 'صفا', 'تهران‌نو'],\n",
    "    14: ['مینا', 'پرستار', 'شیوا', 'چهارصد دستگاه', 'دولاب', 'نبی اکرم(ص)', 'تاکسیرانی', 'دلگشا', 'فلاح', 'صد دستگاه', 'آهنگ', 'ائمه اطهار', 'شاهد', 'خاوران', 'شکوفه'],\n",
    "    15: ['افسریه', 'مسعودیه', 'ابوذر (منطقه ۱۵)', 'شهرک کیانشهر', 'اتابک', 'شوش', 'مشیریه', 'بیسیم', 'قیام‌دشت', 'مینابی', 'هاشم‌آباد', 'طیب', 'کاروان', 'مسگرآباد', 'شریف‌آباد'],\n",
    "    16: ['خزانه', 'علی‌آباد', 'یاخچی‌آباد', 'باغ آذری', 'نازی‌آباد', 'جوادیه', 'شهرک تختی'],\n",
    "    17: ['بلورسازی', 'امام سجاد(ع)', 'امامزاده حسن(ع)', 'گلچین', 'زمزم', 'جلیلی', 'مقدم', 'زهتابی', 'باغ خزانه', 'آذری', 'وصفنارد'],\n",
    "    18: ['خلیج فارس', 'شادآباد', 'بهداشت', 'تولید دارو', 'شهید رجایی', 'سعیدآباد', 'کوی هفدهم شهریور', 'یافت‌آباد', 'صاحب الزمان', 'کوی فردوس', 'شهرک مسلمین', 'شاندیز', 'شهرک فردوس', 'شهرک امام خمینی', 'ابراهیم‌آباد', 'شهرک طالقانی'],\n",
    "    19: ['خانی‌آباد نو', 'عبدل‌آباد', 'شهرک شریعتی', 'دولتخواه', 'خانی‌آباد', 'نعمت‌آباد', 'بهمن یار', 'اسفندیاری', 'شهرک ابوذر', 'کریم‌آباد'],\n",
    "    20: ['دولت‌آباد', 'سرتخت', 'اقدسیه', 'ظهیرآباد', 'استخر', 'دیلمان', 'شهید آوینی', 'فیروزآبادی', 'سیزده آبان', 'صفائیه (چشمه علی)', 'حمزه‌آباد', 'شهادت', 'جوانمرد قصاب', 'ابن بابویه'],\n",
    "    21: ['چیتگر', 'تهران‌سر', 'پاسداران', 'زیبادشت', 'شهرک صدرا', 'وردآورد', 'دهکده المپیک', 'شهرک دریا', 'هوانیروز', 'شهرک استقلال', 'شهرک پاسداران', 'شهرک آزادی', 'شهرک دانشگاه تهران', 'شهرک سینمایی', 'شهرک دانشگاهی'],\n",
    "    22: ['سرو آزاد', 'شهرک شهید باقری', 'دریاچه شهدای خلیج فارس', 'آبشار تهران'],\n",
    "}"
   ],
   "metadata": {
    "collapsed": false,
    "ExecuteTime": {
     "end_time": "2024-12-25T13:18:45.325734837Z",
     "start_time": "2024-12-25T13:18:44.802506658Z"
    }
   },
   "id": "48ba5aec7decdb17"
  },
  {
   "cell_type": "code",
   "execution_count": 81,
   "outputs": [],
   "source": [
    "# invert the dictionary to map addresses to regions\n",
    "address_to_region = {address: region for region, addresses in regions.items() for address in addresses}"
   ],
   "metadata": {
    "collapsed": false,
    "ExecuteTime": {
     "end_time": "2024-12-25T13:18:45.326097611Z",
     "start_time": "2024-12-25T13:18:44.810151985Z"
    }
   },
   "id": "c4df4f5d63cfcb1"
  },
  {
   "cell_type": "code",
   "execution_count": 82,
   "outputs": [
    {
     "data": {
      "text/plain": "                            link  \\\n0  https://divar.ir/v/-/wZmAzMs2   \n1  https://divar.ir/v/-/wZl0tBJo   \n2  https://divar.ir/v/-/wZmcALyN   \n3  https://divar.ir/v/-/wZgQZf-8   \n4  https://divar.ir/v/-/wZXc6Q-z   \n\n                                             title      address  area   age  \\\n0                 ۹۵متر/ فول امکانات / فول بازسازی        ایران    95  1383   \n1  اپارتمان۵۰متر۱خواب نوسازتکواحدی گیلکی آهنگ مینا         مینا    50  1403   \n2                          ۱۱۵ متر دوخواب شیک و...    یوسف‌آباد   115  1398   \n3                               تکواحدی با پارکینگ  شهرک ولیعصر    51  1390   \n4             نیاوران ۳۵۰ متر/سه جهت نور گیر/۴تراس      نیاوران   350  1390   \n\n  rooms  total_price  price_per_meter   floor  elevator  parking  warehouse  \\\n0     2   8000000000         84210000       3      True     True       True   \n1     1   4400000000         88000000  3 از 4      True     True      False   \n2     2  15890000000        138173000       4      True     True       True   \n3     1   2000000000         39215000  2 از 4     False     True       True   \n4     4  52800000000        150857000       5      True     True       True   \n\n   longitude   latitude  region  \n0  51.444726  35.684725      12  \n1  51.449087  35.670433      14  \n2        NaN        NaN       6  \n3  51.345065  35.648787       4  \n4  51.452451  35.812732       1  ",
      "text/html": "<div>\n<style scoped>\n    .dataframe tbody tr th:only-of-type {\n        vertical-align: middle;\n    }\n\n    .dataframe tbody tr th {\n        vertical-align: top;\n    }\n\n    .dataframe thead th {\n        text-align: right;\n    }\n</style>\n<table border=\"1\" class=\"dataframe\">\n  <thead>\n    <tr style=\"text-align: right;\">\n      <th></th>\n      <th>link</th>\n      <th>title</th>\n      <th>address</th>\n      <th>area</th>\n      <th>age</th>\n      <th>rooms</th>\n      <th>total_price</th>\n      <th>price_per_meter</th>\n      <th>floor</th>\n      <th>elevator</th>\n      <th>parking</th>\n      <th>warehouse</th>\n      <th>longitude</th>\n      <th>latitude</th>\n      <th>region</th>\n    </tr>\n  </thead>\n  <tbody>\n    <tr>\n      <th>0</th>\n      <td>https://divar.ir/v/-/wZmAzMs2</td>\n      <td>۹۵متر/ فول امکانات / فول بازسازی</td>\n      <td>ایران</td>\n      <td>95</td>\n      <td>1383</td>\n      <td>2</td>\n      <td>8000000000</td>\n      <td>84210000</td>\n      <td>3</td>\n      <td>True</td>\n      <td>True</td>\n      <td>True</td>\n      <td>51.444726</td>\n      <td>35.684725</td>\n      <td>12</td>\n    </tr>\n    <tr>\n      <th>1</th>\n      <td>https://divar.ir/v/-/wZl0tBJo</td>\n      <td>اپارتمان۵۰متر۱خواب نوسازتکواحدی گیلکی آهنگ مینا</td>\n      <td>مینا</td>\n      <td>50</td>\n      <td>1403</td>\n      <td>1</td>\n      <td>4400000000</td>\n      <td>88000000</td>\n      <td>3 از 4</td>\n      <td>True</td>\n      <td>True</td>\n      <td>False</td>\n      <td>51.449087</td>\n      <td>35.670433</td>\n      <td>14</td>\n    </tr>\n    <tr>\n      <th>2</th>\n      <td>https://divar.ir/v/-/wZmcALyN</td>\n      <td>۱۱۵ متر دوخواب شیک و...</td>\n      <td>یوسف‌آباد</td>\n      <td>115</td>\n      <td>1398</td>\n      <td>2</td>\n      <td>15890000000</td>\n      <td>138173000</td>\n      <td>4</td>\n      <td>True</td>\n      <td>True</td>\n      <td>True</td>\n      <td>NaN</td>\n      <td>NaN</td>\n      <td>6</td>\n    </tr>\n    <tr>\n      <th>3</th>\n      <td>https://divar.ir/v/-/wZgQZf-8</td>\n      <td>تکواحدی با پارکینگ</td>\n      <td>شهرک ولیعصر</td>\n      <td>51</td>\n      <td>1390</td>\n      <td>1</td>\n      <td>2000000000</td>\n      <td>39215000</td>\n      <td>2 از 4</td>\n      <td>False</td>\n      <td>True</td>\n      <td>True</td>\n      <td>51.345065</td>\n      <td>35.648787</td>\n      <td>4</td>\n    </tr>\n    <tr>\n      <th>4</th>\n      <td>https://divar.ir/v/-/wZXc6Q-z</td>\n      <td>نیاوران ۳۵۰ متر/سه جهت نور گیر/۴تراس</td>\n      <td>نیاوران</td>\n      <td>350</td>\n      <td>1390</td>\n      <td>4</td>\n      <td>52800000000</td>\n      <td>150857000</td>\n      <td>5</td>\n      <td>True</td>\n      <td>True</td>\n      <td>True</td>\n      <td>51.452451</td>\n      <td>35.812732</td>\n      <td>1</td>\n    </tr>\n  </tbody>\n</table>\n</div>"
     },
     "execution_count": 82,
     "metadata": {},
     "output_type": "execute_result"
    }
   ],
   "source": [
    "# a new column for the region\n",
    "df['region'] = df['address'].map(address_to_region)\n",
    "df.head()"
   ],
   "metadata": {
    "collapsed": false,
    "ExecuteTime": {
     "end_time": "2024-12-25T13:18:45.327281022Z",
     "start_time": "2024-12-25T13:18:44.850907059Z"
    }
   },
   "id": "87ff605dc28c1190"
  },
  {
   "cell_type": "code",
   "execution_count": 83,
   "outputs": [
    {
     "data": {
      "text/plain": "                            link  \\\n0  https://divar.ir/v/-/wZmAzMs2   \n1  https://divar.ir/v/-/wZl0tBJo   \n2  https://divar.ir/v/-/wZmcALyN   \n3  https://divar.ir/v/-/wZgQZf-8   \n4  https://divar.ir/v/-/wZXc6Q-z   \n\n                                             title      address  region  area  \\\n0                 ۹۵متر/ فول امکانات / فول بازسازی        ایران      12    95   \n1  اپارتمان۵۰متر۱خواب نوسازتکواحدی گیلکی آهنگ مینا         مینا      14    50   \n2                          ۱۱۵ متر دوخواب شیک و...    یوسف‌آباد       6   115   \n3                               تکواحدی با پارکینگ  شهرک ولیعصر       4    51   \n4             نیاوران ۳۵۰ متر/سه جهت نور گیر/۴تراس      نیاوران       1   350   \n\n    age rooms  total_price  price_per_meter   floor  elevator  parking  \\\n0  1383     2   8000000000         84210000       3      True     True   \n1  1403     1   4400000000         88000000  3 از 4      True     True   \n2  1398     2  15890000000        138173000       4      True     True   \n3  1390     1   2000000000         39215000  2 از 4     False     True   \n4  1390     4  52800000000        150857000       5      True     True   \n\n   warehouse  longitude   latitude  \n0       True  51.444726  35.684725  \n1      False  51.449087  35.670433  \n2       True        NaN        NaN  \n3       True  51.345065  35.648787  \n4       True  51.452451  35.812732  ",
      "text/html": "<div>\n<style scoped>\n    .dataframe tbody tr th:only-of-type {\n        vertical-align: middle;\n    }\n\n    .dataframe tbody tr th {\n        vertical-align: top;\n    }\n\n    .dataframe thead th {\n        text-align: right;\n    }\n</style>\n<table border=\"1\" class=\"dataframe\">\n  <thead>\n    <tr style=\"text-align: right;\">\n      <th></th>\n      <th>link</th>\n      <th>title</th>\n      <th>address</th>\n      <th>region</th>\n      <th>area</th>\n      <th>age</th>\n      <th>rooms</th>\n      <th>total_price</th>\n      <th>price_per_meter</th>\n      <th>floor</th>\n      <th>elevator</th>\n      <th>parking</th>\n      <th>warehouse</th>\n      <th>longitude</th>\n      <th>latitude</th>\n    </tr>\n  </thead>\n  <tbody>\n    <tr>\n      <th>0</th>\n      <td>https://divar.ir/v/-/wZmAzMs2</td>\n      <td>۹۵متر/ فول امکانات / فول بازسازی</td>\n      <td>ایران</td>\n      <td>12</td>\n      <td>95</td>\n      <td>1383</td>\n      <td>2</td>\n      <td>8000000000</td>\n      <td>84210000</td>\n      <td>3</td>\n      <td>True</td>\n      <td>True</td>\n      <td>True</td>\n      <td>51.444726</td>\n      <td>35.684725</td>\n    </tr>\n    <tr>\n      <th>1</th>\n      <td>https://divar.ir/v/-/wZl0tBJo</td>\n      <td>اپارتمان۵۰متر۱خواب نوسازتکواحدی گیلکی آهنگ مینا</td>\n      <td>مینا</td>\n      <td>14</td>\n      <td>50</td>\n      <td>1403</td>\n      <td>1</td>\n      <td>4400000000</td>\n      <td>88000000</td>\n      <td>3 از 4</td>\n      <td>True</td>\n      <td>True</td>\n      <td>False</td>\n      <td>51.449087</td>\n      <td>35.670433</td>\n    </tr>\n    <tr>\n      <th>2</th>\n      <td>https://divar.ir/v/-/wZmcALyN</td>\n      <td>۱۱۵ متر دوخواب شیک و...</td>\n      <td>یوسف‌آباد</td>\n      <td>6</td>\n      <td>115</td>\n      <td>1398</td>\n      <td>2</td>\n      <td>15890000000</td>\n      <td>138173000</td>\n      <td>4</td>\n      <td>True</td>\n      <td>True</td>\n      <td>True</td>\n      <td>NaN</td>\n      <td>NaN</td>\n    </tr>\n    <tr>\n      <th>3</th>\n      <td>https://divar.ir/v/-/wZgQZf-8</td>\n      <td>تکواحدی با پارکینگ</td>\n      <td>شهرک ولیعصر</td>\n      <td>4</td>\n      <td>51</td>\n      <td>1390</td>\n      <td>1</td>\n      <td>2000000000</td>\n      <td>39215000</td>\n      <td>2 از 4</td>\n      <td>False</td>\n      <td>True</td>\n      <td>True</td>\n      <td>51.345065</td>\n      <td>35.648787</td>\n    </tr>\n    <tr>\n      <th>4</th>\n      <td>https://divar.ir/v/-/wZXc6Q-z</td>\n      <td>نیاوران ۳۵۰ متر/سه جهت نور گیر/۴تراس</td>\n      <td>نیاوران</td>\n      <td>1</td>\n      <td>350</td>\n      <td>1390</td>\n      <td>4</td>\n      <td>52800000000</td>\n      <td>150857000</td>\n      <td>5</td>\n      <td>True</td>\n      <td>True</td>\n      <td>True</td>\n      <td>51.452451</td>\n      <td>35.812732</td>\n    </tr>\n  </tbody>\n</table>\n</div>"
     },
     "execution_count": 83,
     "metadata": {},
     "output_type": "execute_result"
    }
   ],
   "source": [
    "# put the new column in the right place\n",
    "address_index = df.columns.get_loc('address')\n",
    "df.insert(address_index + 1, 'region', df.pop('region'))\n",
    "df.head()"
   ],
   "metadata": {
    "collapsed": false,
    "ExecuteTime": {
     "end_time": "2024-12-25T13:18:45.335175104Z",
     "start_time": "2024-12-25T13:18:44.865538593Z"
    }
   },
   "id": "c17f438e2801bfd1"
  },
  {
   "cell_type": "code",
   "execution_count": 84,
   "outputs": [
    {
     "data": {
      "text/plain": "array([12, 14,  6,  4,  1,  3,  2,  5, 10, 18,  8,  9, 15,  7, 22, 21, 11,\n       13, 19, 16, 20, 17])"
     },
     "execution_count": 84,
     "metadata": {},
     "output_type": "execute_result"
    }
   ],
   "source": [
    "# unique regions\n",
    "df['region'].unique()"
   ],
   "metadata": {
    "collapsed": false,
    "ExecuteTime": {
     "end_time": "2024-12-25T13:18:45.335773800Z",
     "start_time": "2024-12-25T13:18:44.872032459Z"
    }
   },
   "id": "85447e8b763c9bab"
  },
  {
   "cell_type": "markdown",
   "source": [
    "All set up!"
   ],
   "metadata": {
    "collapsed": false
   },
   "id": "fdea31bc56b19e8a"
  },
  {
   "cell_type": "code",
   "execution_count": 85,
   "outputs": [
    {
     "data": {
      "text/plain": "array(['3', '3 از 4', '4', '2 از 4', '5', '1 از 4', '3 از 11', '12 از 14',\n       '5 از 9', '5 از 5', '3 از 5', '9 از 11', '4 از 11', '4 از 4',\n       '4 از 5', 'همکف از 4', '1', '1 از 3', '6', '15 از 12', '2 از 6',\n       '3 از 3', 'زیرهمکف از 4', '4 از 6', '2 از 3', '8 از 2', '2 از 5',\n       '12 از بیشتر از 30', '1 از 5', '6 از 6', '8 از 14', '2', '1 از 10',\n       '2 از 8', '1 از 6', 'همکف', '7 از 30', '3 از 6', '12',\n       '11 از بیشتر از 30', '3 از 8', '8 از 30', '9', '13', '5 از 11',\n       '7 از 11', '7 از 7', '9 از 17', '8 از 8', '1 از 19', '11 از 12',\n       'همکف از 5', '5 از 6', '8', '17', '7 از 10', '8 از 11', '10 از 14',\n       '15', '2 از 2', '+30 از بیشتر از 30', '2 از 10',\n       '1 از بیشتر از 30', '+30', '1 از 7', '6 از 7', '16', '10 از 15',\n       '15 از 18', '12 از 21', '4 از 7', '8 از 15', '12 از 12',\n       '11 از 11', '18 از 29', '9 از بیشتر از 30', '25 از 25', '17 از 25',\n       '8 از 18', '5 از 13', '12 از 15', '7', '9 از 14', '20', '4 از 9',\n       '7 از 19', '15 از 20', '4 از 10', '3 از 9', '11', '15 از 21',\n       '6 از 14', '12 از 17', '20 از 20', '18 از بیشتر از 30', '2 از 9',\n       '2 از 25', '1 از 9', '9 از 20', '17 از 17', '2 از 7', '3 از 15',\n       '1 از 2', '28 از 30', '10 از 25', '3 از 25', '13 از 15', '10',\n       '16 از 22', '4 از 21', '8 از 10', '7 از 14', '7 از 8', '20 از 21',\n       '6 از 12', '4 از 20', 'زیرهمکف از 3', '5 از 20', '5 از 8',\n       '7 از 9', 'زیرهمکف', '1 از 12', '14 از 21', '13 از 23', '14 از 20',\n       'همکف از 3', 'همکف از 6', '16 از 20', '6 از 11', '18', '14 از 16',\n       '6 از 15', '4 از 22', '8 از 17', '2 از 11', '24 از بیشتر از 30',\n       '2 از 20', '5 از 22', '8 از 12', '9 از 15', '24 از 25', '21 از 21',\n       '14 از 18', '3 از 7', '18 از 20', '10 از 16', '7 از 18', '5 از 14',\n       '3 از 2', '9 از 22', '5 از 16', '10 از 21', '14', '25', '10 از 11',\n       '5 از 2', '12 از 22', '23 از 25', '13 از 21', '6 از 10', '6 از 4',\n       '8 از 16', '1 از 25', '25 از 29', '26', '5 از 15', '13 از 17',\n       '7 از 12', '9 از 21', '6 از 9', '7 از 16', '1 از 11', '21 از 30',\n       '4 از 14', '1 از 30', '3 از 19', '10 از 20', '24', '2 از 14',\n       '12 از 30', '17 از بیشتر از 30', '28 از بیشتر از 30', '14 از 15',\n       '10 از 18', '15 از 25', '19', '5 از 7', '4 از 2', '6 از 8',\n       '5 از 10', '7 از 20', '23 از بیشتر از 30', '4 از 25', '13 از 22',\n       '9 از 10', '12 از 25', '5 از 21', '3 از 10', '23', '10 از 13',\n       '7 از 21', '6 از 19', '17 از 18', '10 از 10', '17 از 19',\n       '11 از 18', '4 از 24', '22 از 16', '6 از 17', '7 از 6', '15 از 15',\n       '12 از 18', '8 از 20', '16 از 16', '19 از 19', '3 از 12',\n       '5 از 12', '17 از 21', '3 از 29', '12 از 16', '11 از 13',\n       '10 از 12', 'زیرهمکف از 5', '8 از 9', '16 از 21', '4 از 12',\n       'همکف از 2', '6 از 18', '14 از 19', '10 از 30', '9 از 12',\n       '4 از 8', '1 از 16', '9 از 19', '22 از 30', '10 از 17', '4 از 16',\n       '14 از 14', '16 از 30', '7 از 29', '30 از بیشتر از 30', '30',\n       '30 از 26', '6 از 5', '8 از 22', '5 از 29', '10 از 6', '9 از 7',\n       '11 از 20', '1 از 8', '8 از 21', '10 از بیشتر از 30', '19 از 30',\n       '8 از 13', '3 از 13', '6 از 25', '5 از 4', '8 از 26',\n       '7 از بیشتر از 30', '5 از 30', '9 از 25', '13 از 16', '15 از 16',\n       '27 از 27', '9 از 16', '27', '12 از 20', '12 از 19', '10 از 22',\n       '1 از 22', '20 از 25', '13 از 20', '8 از 19', '11 از 21',\n       '18 از 18', '2 از 13', '30 از 20', '14 از 17', '18 از 16',\n       '14 از بیشتر از 30', '19 از 21', '29', '23 از 23', '6 از 13',\n       '1 از 20', '18 از 21', '9 از 9', '9 از 18', '2 از 15', '7 از 15',\n       '19 از بیشتر از 30', '17 از 20', '16 از 19', '2 از 24',\n       '16 از بیشتر از 30', '1 از 13', '+30 از 6', '6 از 29', '11 از 19',\n       '4 از 3', '3 از 18', '22', '15 از 17', '18 از 30', '6 از 16',\n       '14 از 22', '1 از 17', 'زیرهمکف از 7'], dtype=object)"
     },
     "execution_count": 85,
     "metadata": {},
     "output_type": "execute_result"
    }
   ],
   "source": [
    "df['floor'].unique()"
   ],
   "metadata": {
    "collapsed": false,
    "ExecuteTime": {
     "end_time": "2024-12-25T13:18:45.339007805Z",
     "start_time": "2024-12-25T13:18:44.883490342Z"
    }
   },
   "id": "92b249d1223979f2"
  },
  {
   "cell_type": "code",
   "execution_count": 86,
   "outputs": [
    {
     "data": {
      "text/plain": "array([ 3,  4,  2,  5,  1, 12,  9,  0,  6, 15,  8,  7, 11, 13, 17, 10, 30,\n       31, 16, 18, 25, 20, 28, 14, 24, 21, 23, 26, 19, 22, 27, 29])"
     },
     "execution_count": 86,
     "metadata": {},
     "output_type": "execute_result"
    }
   ],
   "source": [
    "import numpy as np\n",
    "\n",
    "def normalize_floor(value):\n",
    "    if value == '+30':\n",
    "        return 31\n",
    "    if pd.isna(value):  # Handle NaN\n",
    "        return np.nan\n",
    "    if 'همکف' in value:  # Ground floor\n",
    "        return 0\n",
    "    if 'زیرهمکف' in value:  # Below ground\n",
    "        return -1\n",
    "    if 'از' in value:  # Extract the number before \"از\"\n",
    "        return int(value.split('از')[0].strip())\n",
    "    try:  # Try converting to integer\n",
    "        return int(value.strip())\n",
    "    except ValueError:\n",
    "        return np.nan\n",
    "    \n",
    "df['floor'] = df['floor'].apply(normalize_floor)\n",
    "df['floor'].unique()"
   ],
   "metadata": {
    "collapsed": false,
    "ExecuteTime": {
     "end_time": "2024-12-25T13:18:45.382551137Z",
     "start_time": "2024-12-25T13:18:44.924889499Z"
    }
   },
   "id": "cefc9c585ed68a8d"
  },
  {
   "cell_type": "code",
   "execution_count": 87,
   "outputs": [
    {
     "data": {
      "text/plain": "floor\n3     2024\n2     2018\n1     1775\n4     1565\n5      938\n0      292\n6      257\n10     109\n7      105\n8      102\n9       66\n12      59\n11      36\n14      34\n15      33\n18      22\n20      22\n13      21\n16      20\n17      19\n19      12\n30      10\n22       5\n25       5\n26       4\n31       4\n24       4\n21       4\n23       4\n27       3\n29       3\n28       2\nName: count, dtype: int64"
     },
     "execution_count": 87,
     "metadata": {},
     "output_type": "execute_result"
    }
   ],
   "source": [
    "df['floor'].value_counts()"
   ],
   "metadata": {
    "collapsed": false,
    "ExecuteTime": {
     "end_time": "2024-12-25T13:18:45.559553807Z",
     "start_time": "2024-12-25T13:18:44.935118182Z"
    }
   },
   "id": "1812412b8e681c02"
  },
  {
   "cell_type": "code",
   "execution_count": 88,
   "outputs": [
    {
     "data": {
      "text/plain": "array(['1383', '1403', '1398', '1390', 'قبل از 1370', '1402', '1385',\n       '1388', '1401', '1375', '1392', '1386', '1381', '1373', '1400',\n       '1397', '1394', '1380', '1395', '1389', '1382', '1396', '1384',\n       '1393', '1387', '1374', '1376', '1391', '1399', '1378', '1379',\n       '1371', '1372', '1377'], dtype=object)"
     },
     "execution_count": 88,
     "metadata": {},
     "output_type": "execute_result"
    }
   ],
   "source": [
    "df['age'].unique()"
   ],
   "metadata": {
    "collapsed": false,
    "ExecuteTime": {
     "end_time": "2024-12-25T13:18:45.560481408Z",
     "start_time": "2024-12-25T13:18:44.976050174Z"
    }
   },
   "id": "3f167da4661a41ca"
  },
  {
   "cell_type": "code",
   "execution_count": 89,
   "outputs": [
    {
     "data": {
      "text/plain": "array([1383, 1403, 1398, 1390, 1370, 1402, 1385, 1388, 1401, 1375, 1392,\n       1386, 1381, 1373, 1400, 1397, 1394, 1380, 1395, 1389, 1382, 1396,\n       1384, 1393, 1387, 1374, 1376, 1391, 1399, 1378, 1379, 1371, 1372,\n       1377])"
     },
     "execution_count": 89,
     "metadata": {},
     "output_type": "execute_result"
    }
   ],
   "source": [
    "import re\n",
    "\n",
    "df['age'] = df['age'].apply(lambda x: x.split()[-1].strip() if 'از' in x else x)\n",
    "df['age'] = df['age'].apply(lambda x: int(x) if re.match(r'^\\d+$', str(x)) else 0)\n",
    "df['age'].unique()"
   ],
   "metadata": {
    "collapsed": false,
    "ExecuteTime": {
     "end_time": "2024-12-25T13:18:45.561143668Z",
     "start_time": "2024-12-25T13:18:44.976464554Z"
    }
   },
   "id": "a28e0f24e12596a5"
  },
  {
   "cell_type": "code",
   "execution_count": 90,
   "outputs": [
    {
     "data": {
      "text/plain": "array(['2', '1', '4', '3', '+4', 'بدون اتاق'], dtype=object)"
     },
     "execution_count": 90,
     "metadata": {},
     "output_type": "execute_result"
    }
   ],
   "source": [
    "df['rooms'].unique()"
   ],
   "metadata": {
    "collapsed": false,
    "ExecuteTime": {
     "end_time": "2024-12-25T13:18:45.561745916Z",
     "start_time": "2024-12-25T13:18:44.990732217Z"
    }
   },
   "id": "979b9f21c3b4a405"
  },
  {
   "cell_type": "code",
   "execution_count": 91,
   "outputs": [
    {
     "data": {
      "text/plain": "rooms\n2            4752\n1            2427\n3            2177\n4             182\n+4             23\nبدون اتاق      16\nName: count, dtype: int64"
     },
     "execution_count": 91,
     "metadata": {},
     "output_type": "execute_result"
    }
   ],
   "source": [
    "df['rooms'].value_counts()"
   ],
   "metadata": {
    "collapsed": false,
    "ExecuteTime": {
     "end_time": "2024-12-25T13:18:45.562349986Z",
     "start_time": "2024-12-25T13:18:45.000054527Z"
    }
   },
   "id": "df15379c2e910dcd"
  },
  {
   "cell_type": "code",
   "execution_count": 92,
   "outputs": [
    {
     "data": {
      "text/plain": "rooms\n2    4752\n1    2427\n3    2177\n4     182\n5      23\n0      16\nName: count, dtype: int64"
     },
     "execution_count": 92,
     "metadata": {},
     "output_type": "execute_result"
    }
   ],
   "source": [
    "room_map = {'+4': 5, 'بدون اتاق': 0}\n",
    "df['rooms'] = df['rooms'].map(room_map).fillna(df['rooms'])\n",
    "df['rooms'] = df['rooms'].apply(lambda x: int(x))\n",
    "df['rooms'].value_counts()"
   ],
   "metadata": {
    "collapsed": false,
    "ExecuteTime": {
     "end_time": "2024-12-25T13:18:45.563075164Z",
     "start_time": "2024-12-25T13:18:45.040748140Z"
    }
   },
   "id": "ce24d23fdb82c262"
  },
  {
   "cell_type": "code",
   "execution_count": 98,
   "outputs": [
    {
     "name": "stdout",
     "output_type": "stream",
     "text": [
      "<class 'pandas.core.frame.DataFrame'>\n",
      "RangeIndex: 9577 entries, 0 to 9576\n",
      "Data columns (total 15 columns):\n",
      " #   Column           Non-Null Count  Dtype  \n",
      "---  ------           --------------  -----  \n",
      " 0   link             9577 non-null   object \n",
      " 1   title            9577 non-null   object \n",
      " 2   address          9577 non-null   object \n",
      " 3   region           9577 non-null   int64  \n",
      " 4   area             9577 non-null   int64  \n",
      " 5   age              9577 non-null   int64  \n",
      " 6   rooms            9577 non-null   int64  \n",
      " 7   total_price      9577 non-null   int64  \n",
      " 8   price_per_meter  9577 non-null   int64  \n",
      " 9   floor            9577 non-null   int64  \n",
      " 10  elevator         9577 non-null   bool   \n",
      " 11  parking          9577 non-null   bool   \n",
      " 12  warehouse        9577 non-null   bool   \n",
      " 13  longitude        7824 non-null   float64\n",
      " 14  latitude         7824 non-null   float64\n",
      "dtypes: bool(3), float64(2), int64(7), object(3)\n",
      "memory usage: 926.0+ KB\n"
     ]
    }
   ],
   "source": [
    "df.info()"
   ],
   "metadata": {
    "collapsed": false,
    "ExecuteTime": {
     "end_time": "2024-12-25T13:19:12.894699706Z",
     "start_time": "2024-12-25T13:19:12.873300330Z"
    }
   },
   "id": "dbd644f4a0b9c386"
  },
  {
   "cell_type": "code",
   "execution_count": 97,
   "outputs": [
    {
     "data": {
      "text/plain": "            region           area          age        rooms   total_price  \\\ncount  9577.000000    9577.000000  9577.000000  9577.000000  9.577000e+03   \nmean      8.060875     170.804845  1393.206432     2.015767  1.317370e+10   \nstd       6.256338    6143.585901     8.224343     0.764761  2.497810e+10   \nmin       1.000000       1.000000  1370.000000     0.000000  1.110000e+02   \n25%       3.000000      63.000000  1387.000000     1.000000  3.900000e+09   \n50%       6.000000      88.000000  1394.000000     2.000000  7.800000e+09   \n75%      11.000000     122.000000  1401.000000     2.000000  1.500000e+10   \nmax      22.000000  600000.000000  1403.000000     5.000000  1.000000e+12   \n\n       price_per_meter        floor    longitude     latitude  \ncount     9.577000e+03  9577.000000  7824.000000  7824.000000  \nmean      1.053560e+08     3.437820    51.382206    35.723658  \nstd       7.131870e+07     3.157208     0.127218     0.060613  \nmin       0.000000e+00     0.000000    51.124653    32.435613  \n25%       6.074000e+07     2.000000    51.327518    35.692147  \n50%       9.318100e+07     3.000000    51.374981    35.729518  \n75%       1.333330e+08     4.000000    51.449528    35.758036  \nmax       2.222222e+09    31.000000    59.510125    36.317200  ",
      "text/html": "<div>\n<style scoped>\n    .dataframe tbody tr th:only-of-type {\n        vertical-align: middle;\n    }\n\n    .dataframe tbody tr th {\n        vertical-align: top;\n    }\n\n    .dataframe thead th {\n        text-align: right;\n    }\n</style>\n<table border=\"1\" class=\"dataframe\">\n  <thead>\n    <tr style=\"text-align: right;\">\n      <th></th>\n      <th>region</th>\n      <th>area</th>\n      <th>age</th>\n      <th>rooms</th>\n      <th>total_price</th>\n      <th>price_per_meter</th>\n      <th>floor</th>\n      <th>longitude</th>\n      <th>latitude</th>\n    </tr>\n  </thead>\n  <tbody>\n    <tr>\n      <th>count</th>\n      <td>9577.000000</td>\n      <td>9577.000000</td>\n      <td>9577.000000</td>\n      <td>9577.000000</td>\n      <td>9.577000e+03</td>\n      <td>9.577000e+03</td>\n      <td>9577.000000</td>\n      <td>7824.000000</td>\n      <td>7824.000000</td>\n    </tr>\n    <tr>\n      <th>mean</th>\n      <td>8.060875</td>\n      <td>170.804845</td>\n      <td>1393.206432</td>\n      <td>2.015767</td>\n      <td>1.317370e+10</td>\n      <td>1.053560e+08</td>\n      <td>3.437820</td>\n      <td>51.382206</td>\n      <td>35.723658</td>\n    </tr>\n    <tr>\n      <th>std</th>\n      <td>6.256338</td>\n      <td>6143.585901</td>\n      <td>8.224343</td>\n      <td>0.764761</td>\n      <td>2.497810e+10</td>\n      <td>7.131870e+07</td>\n      <td>3.157208</td>\n      <td>0.127218</td>\n      <td>0.060613</td>\n    </tr>\n    <tr>\n      <th>min</th>\n      <td>1.000000</td>\n      <td>1.000000</td>\n      <td>1370.000000</td>\n      <td>0.000000</td>\n      <td>1.110000e+02</td>\n      <td>0.000000e+00</td>\n      <td>0.000000</td>\n      <td>51.124653</td>\n      <td>32.435613</td>\n    </tr>\n    <tr>\n      <th>25%</th>\n      <td>3.000000</td>\n      <td>63.000000</td>\n      <td>1387.000000</td>\n      <td>1.000000</td>\n      <td>3.900000e+09</td>\n      <td>6.074000e+07</td>\n      <td>2.000000</td>\n      <td>51.327518</td>\n      <td>35.692147</td>\n    </tr>\n    <tr>\n      <th>50%</th>\n      <td>6.000000</td>\n      <td>88.000000</td>\n      <td>1394.000000</td>\n      <td>2.000000</td>\n      <td>7.800000e+09</td>\n      <td>9.318100e+07</td>\n      <td>3.000000</td>\n      <td>51.374981</td>\n      <td>35.729518</td>\n    </tr>\n    <tr>\n      <th>75%</th>\n      <td>11.000000</td>\n      <td>122.000000</td>\n      <td>1401.000000</td>\n      <td>2.000000</td>\n      <td>1.500000e+10</td>\n      <td>1.333330e+08</td>\n      <td>4.000000</td>\n      <td>51.449528</td>\n      <td>35.758036</td>\n    </tr>\n    <tr>\n      <th>max</th>\n      <td>22.000000</td>\n      <td>600000.000000</td>\n      <td>1403.000000</td>\n      <td>5.000000</td>\n      <td>1.000000e+12</td>\n      <td>2.222222e+09</td>\n      <td>31.000000</td>\n      <td>59.510125</td>\n      <td>36.317200</td>\n    </tr>\n  </tbody>\n</table>\n</div>"
     },
     "execution_count": 97,
     "metadata": {},
     "output_type": "execute_result"
    }
   ],
   "source": [
    "df.describe()"
   ],
   "metadata": {
    "collapsed": false,
    "ExecuteTime": {
     "end_time": "2024-12-25T13:18:54.315503180Z",
     "start_time": "2024-12-25T13:18:54.259416093Z"
    }
   },
   "id": "cdc265cb4ae885cb"
  },
  {
   "cell_type": "code",
   "execution_count": 99,
   "outputs": [
    {
     "data": {
      "text/plain": "link                  0\ntitle                 0\naddress               0\nregion                0\narea                  0\nage                   0\nrooms                 0\ntotal_price           0\nprice_per_meter       0\nfloor                 0\nelevator              0\nparking               0\nwarehouse             0\nlongitude          1753\nlatitude           1753\ndtype: int64"
     },
     "execution_count": 99,
     "metadata": {},
     "output_type": "execute_result"
    }
   ],
   "source": [
    "df.isnull().sum()"
   ],
   "metadata": {
    "collapsed": false,
    "ExecuteTime": {
     "end_time": "2024-12-25T13:19:23.585873440Z",
     "start_time": "2024-12-25T13:19:23.542972849Z"
    }
   },
   "id": "744d6e3dda8b8423"
  },
  {
   "cell_type": "code",
   "execution_count": 100,
   "outputs": [
    {
     "data": {
      "text/plain": "                               link  \\\n3397  https://divar.ir/v/-/wZhYdy1i   \n4244  https://divar.ir/v/-/wZlsdtsq   \n228   https://divar.ir/v/-/wZmEkJgL   \n5986  https://divar.ir/v/-/wZOMGruH   \n379   https://divar.ir/v/-/wZm8Tyjr   \n\n                                               title      address  region  \\\n3397        پونک/۹۲ متر نوساز آماده تحویل/همیلا پارک         پونک       2   \n4244  ۱۲۰متر/چشم انداز ابدی شمال طهران/۲تراس اختصاصی         هروی       4   \n228       ۹۲ متر / ۲ خواب / شهران شمالی / فول دیزاین  شهران شمالی       5   \n5986        آپارتمان ۱۰۸ متری کلید نخورده خ شیرمحمدی    نازی‌آباد      16   \n379           ۷۱متری هفت چنار کلیدنخورده فول امکانات     هفت چنار      10   \n\n      area   age  rooms  total_price  price_per_meter  floor  elevator  \\\n3397    92  1403      2  16700000000        181521000      4      True   \n4244   120  1402      2  14400000000        120000000      3      True   \n228     92  1393      2  10300000000        111956000      5      True   \n5986   108  1403      2   8856000000         82000000      3      True   \n379     71  1403      2   4650000000         65492000      4      True   \n\n      parking  warehouse  longitude   latitude  \n3397     True       True  51.339742  35.759796  \n4244     True       True        NaN        NaN  \n228      True       True  51.288683  35.765600  \n5986     True      False  51.393905  35.640140  \n379      True       True  51.369886  35.671614  ",
      "text/html": "<div>\n<style scoped>\n    .dataframe tbody tr th:only-of-type {\n        vertical-align: middle;\n    }\n\n    .dataframe tbody tr th {\n        vertical-align: top;\n    }\n\n    .dataframe thead th {\n        text-align: right;\n    }\n</style>\n<table border=\"1\" class=\"dataframe\">\n  <thead>\n    <tr style=\"text-align: right;\">\n      <th></th>\n      <th>link</th>\n      <th>title</th>\n      <th>address</th>\n      <th>region</th>\n      <th>area</th>\n      <th>age</th>\n      <th>rooms</th>\n      <th>total_price</th>\n      <th>price_per_meter</th>\n      <th>floor</th>\n      <th>elevator</th>\n      <th>parking</th>\n      <th>warehouse</th>\n      <th>longitude</th>\n      <th>latitude</th>\n    </tr>\n  </thead>\n  <tbody>\n    <tr>\n      <th>3397</th>\n      <td>https://divar.ir/v/-/wZhYdy1i</td>\n      <td>پونک/۹۲ متر نوساز آماده تحویل/همیلا پارک</td>\n      <td>پونک</td>\n      <td>2</td>\n      <td>92</td>\n      <td>1403</td>\n      <td>2</td>\n      <td>16700000000</td>\n      <td>181521000</td>\n      <td>4</td>\n      <td>True</td>\n      <td>True</td>\n      <td>True</td>\n      <td>51.339742</td>\n      <td>35.759796</td>\n    </tr>\n    <tr>\n      <th>4244</th>\n      <td>https://divar.ir/v/-/wZlsdtsq</td>\n      <td>۱۲۰متر/چشم انداز ابدی شمال طهران/۲تراس اختصاصی</td>\n      <td>هروی</td>\n      <td>4</td>\n      <td>120</td>\n      <td>1402</td>\n      <td>2</td>\n      <td>14400000000</td>\n      <td>120000000</td>\n      <td>3</td>\n      <td>True</td>\n      <td>True</td>\n      <td>True</td>\n      <td>NaN</td>\n      <td>NaN</td>\n    </tr>\n    <tr>\n      <th>228</th>\n      <td>https://divar.ir/v/-/wZmEkJgL</td>\n      <td>۹۲ متر / ۲ خواب / شهران شمالی / فول دیزاین</td>\n      <td>شهران شمالی</td>\n      <td>5</td>\n      <td>92</td>\n      <td>1393</td>\n      <td>2</td>\n      <td>10300000000</td>\n      <td>111956000</td>\n      <td>5</td>\n      <td>True</td>\n      <td>True</td>\n      <td>True</td>\n      <td>51.288683</td>\n      <td>35.765600</td>\n    </tr>\n    <tr>\n      <th>5986</th>\n      <td>https://divar.ir/v/-/wZOMGruH</td>\n      <td>آپارتمان ۱۰۸ متری کلید نخورده خ شیرمحمدی</td>\n      <td>نازی‌آباد</td>\n      <td>16</td>\n      <td>108</td>\n      <td>1403</td>\n      <td>2</td>\n      <td>8856000000</td>\n      <td>82000000</td>\n      <td>3</td>\n      <td>True</td>\n      <td>True</td>\n      <td>False</td>\n      <td>51.393905</td>\n      <td>35.640140</td>\n    </tr>\n    <tr>\n      <th>379</th>\n      <td>https://divar.ir/v/-/wZm8Tyjr</td>\n      <td>۷۱متری هفت چنار کلیدنخورده فول امکانات</td>\n      <td>هفت چنار</td>\n      <td>10</td>\n      <td>71</td>\n      <td>1403</td>\n      <td>2</td>\n      <td>4650000000</td>\n      <td>65492000</td>\n      <td>4</td>\n      <td>True</td>\n      <td>True</td>\n      <td>True</td>\n      <td>51.369886</td>\n      <td>35.671614</td>\n    </tr>\n  </tbody>\n</table>\n</div>"
     },
     "execution_count": 100,
     "metadata": {},
     "output_type": "execute_result"
    }
   ],
   "source": [
    "df.sample(5)"
   ],
   "metadata": {
    "collapsed": false,
    "ExecuteTime": {
     "end_time": "2024-12-25T13:19:33.184067310Z",
     "start_time": "2024-12-25T13:19:33.165243984Z"
    }
   },
   "id": "17c768b37ad5bf2c"
  },
  {
   "cell_type": "markdown",
   "source": [
    "Finally! The data is clean and ready for analysis."
   ],
   "metadata": {
    "collapsed": false
   },
   "id": "7a9bb3b8f3b320d"
  },
  {
   "cell_type": "code",
   "execution_count": 96,
   "outputs": [],
   "source": [
    "df.to_csv('cleaned_ads.csv', index=False)"
   ],
   "metadata": {
    "collapsed": false,
    "ExecuteTime": {
     "end_time": "2024-12-25T13:18:45.605770957Z",
     "start_time": "2024-12-25T13:18:45.179121629Z"
    }
   },
   "id": "7aaa678dd8dd5188"
  }
 ],
 "metadata": {
  "kernelspec": {
   "name": "pycharm",
   "language": "python",
   "display_name": "PyCharm"
  },
  "language_info": {
   "codemirror_mode": {
    "name": "ipython",
    "version": 2
   },
   "file_extension": ".py",
   "mimetype": "text/x-python",
   "name": "python",
   "nbconvert_exporter": "python",
   "pygments_lexer": "ipython2",
   "version": "2.7.6"
  }
 },
 "nbformat": 4,
 "nbformat_minor": 5
}
