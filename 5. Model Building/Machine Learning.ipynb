{
 "cells": [
  {
   "cell_type": "markdown",
   "source": [
    "Loading and splitting the data"
   ],
   "metadata": {
    "collapsed": false
   },
   "id": "fb59ebe51d5a4da0"
  },
  {
   "cell_type": "code",
   "execution_count": 1,
   "id": "initial_id",
   "metadata": {
    "collapsed": true,
    "ExecuteTime": {
     "end_time": "2024-12-29T19:24:33.403500401Z",
     "start_time": "2024-12-29T19:24:33.396858884Z"
    }
   },
   "outputs": [],
   "source": [
    "import pandas as pd"
   ]
  },
  {
   "cell_type": "code",
   "execution_count": 2,
   "outputs": [],
   "source": [
    "df = pd.read_csv('../4. Data Preparation/featured_ads.csv')"
   ],
   "metadata": {
    "collapsed": false,
    "ExecuteTime": {
     "end_time": "2024-12-29T19:24:36.956224059Z",
     "start_time": "2024-12-29T19:24:36.762880079Z"
    }
   },
   "id": "9f4f60fbc8a4c7a"
  },
  {
   "cell_type": "code",
   "execution_count": 3,
   "outputs": [],
   "source": [
    "df.drop('age', axis=1, inplace=True)"
   ],
   "metadata": {
    "collapsed": false,
    "ExecuteTime": {
     "end_time": "2024-12-29T19:24:40.224980624Z",
     "start_time": "2024-12-29T19:24:40.102453723Z"
    }
   },
   "id": "94cbe6a4710c7314"
  },
  {
   "cell_type": "markdown",
   "source": [
    "Note: dropped the age feature because its correlation with price was too low."
   ],
   "metadata": {
    "collapsed": false
   },
   "id": "77f3a1631b6c3cc3"
  },
  {
   "cell_type": "code",
   "execution_count": 198,
   "outputs": [
    {
     "data": {
      "text/plain": "      rooms  total_price  elevator  parking  warehouse  total_price_log  \\\n972       2   8000000000         1        1          0        22.802707   \n424       2  10300000000         1        1          1        23.055410   \n1924      3   9200000000         1        1          1        22.942469   \n2335      2   2040000000         0        0          1        21.436216   \n6591      1   5500000000         0        1          1        22.428014   \n\n      outlier  address_encoded  region_1  region_2  ...  region_13  region_14  \\\n972         0     9.511851e+09         0         0  ...          0          0   \n424         0     1.020003e+10         0         0  ...          0          0   \n1924        0     1.876026e+10         0         1  ...          0          0   \n2335        0     3.610250e+09         0         0  ...          0          0   \n6591        0     1.336613e+10         0         0  ...          0          0   \n\n      region_15  region_16  region_17  region_18  region_19  region_20  \\\n972           0          0          0          0          0          0   \n424           0          0          0          0          0          0   \n1924          0          0          0          0          0          0   \n2335          0          0          0          0          0          0   \n6591          0          0          0          0          0          0   \n\n      region_21  region_22  \n972           0          0  \n424           0          0  \n1924          0          0  \n2335          0          0  \n6591          0          0  \n\n[5 rows x 30 columns]",
      "text/html": "<div>\n<style scoped>\n    .dataframe tbody tr th:only-of-type {\n        vertical-align: middle;\n    }\n\n    .dataframe tbody tr th {\n        vertical-align: top;\n    }\n\n    .dataframe thead th {\n        text-align: right;\n    }\n</style>\n<table border=\"1\" class=\"dataframe\">\n  <thead>\n    <tr style=\"text-align: right;\">\n      <th></th>\n      <th>rooms</th>\n      <th>total_price</th>\n      <th>elevator</th>\n      <th>parking</th>\n      <th>warehouse</th>\n      <th>total_price_log</th>\n      <th>outlier</th>\n      <th>address_encoded</th>\n      <th>region_1</th>\n      <th>region_2</th>\n      <th>...</th>\n      <th>region_13</th>\n      <th>region_14</th>\n      <th>region_15</th>\n      <th>region_16</th>\n      <th>region_17</th>\n      <th>region_18</th>\n      <th>region_19</th>\n      <th>region_20</th>\n      <th>region_21</th>\n      <th>region_22</th>\n    </tr>\n  </thead>\n  <tbody>\n    <tr>\n      <th>972</th>\n      <td>2</td>\n      <td>8000000000</td>\n      <td>1</td>\n      <td>1</td>\n      <td>0</td>\n      <td>22.802707</td>\n      <td>0</td>\n      <td>9.511851e+09</td>\n      <td>0</td>\n      <td>0</td>\n      <td>...</td>\n      <td>0</td>\n      <td>0</td>\n      <td>0</td>\n      <td>0</td>\n      <td>0</td>\n      <td>0</td>\n      <td>0</td>\n      <td>0</td>\n      <td>0</td>\n      <td>0</td>\n    </tr>\n    <tr>\n      <th>424</th>\n      <td>2</td>\n      <td>10300000000</td>\n      <td>1</td>\n      <td>1</td>\n      <td>1</td>\n      <td>23.055410</td>\n      <td>0</td>\n      <td>1.020003e+10</td>\n      <td>0</td>\n      <td>0</td>\n      <td>...</td>\n      <td>0</td>\n      <td>0</td>\n      <td>0</td>\n      <td>0</td>\n      <td>0</td>\n      <td>0</td>\n      <td>0</td>\n      <td>0</td>\n      <td>0</td>\n      <td>0</td>\n    </tr>\n    <tr>\n      <th>1924</th>\n      <td>3</td>\n      <td>9200000000</td>\n      <td>1</td>\n      <td>1</td>\n      <td>1</td>\n      <td>22.942469</td>\n      <td>0</td>\n      <td>1.876026e+10</td>\n      <td>0</td>\n      <td>1</td>\n      <td>...</td>\n      <td>0</td>\n      <td>0</td>\n      <td>0</td>\n      <td>0</td>\n      <td>0</td>\n      <td>0</td>\n      <td>0</td>\n      <td>0</td>\n      <td>0</td>\n      <td>0</td>\n    </tr>\n    <tr>\n      <th>2335</th>\n      <td>2</td>\n      <td>2040000000</td>\n      <td>0</td>\n      <td>0</td>\n      <td>1</td>\n      <td>21.436216</td>\n      <td>0</td>\n      <td>3.610250e+09</td>\n      <td>0</td>\n      <td>0</td>\n      <td>...</td>\n      <td>0</td>\n      <td>0</td>\n      <td>0</td>\n      <td>0</td>\n      <td>0</td>\n      <td>0</td>\n      <td>0</td>\n      <td>0</td>\n      <td>0</td>\n      <td>0</td>\n    </tr>\n    <tr>\n      <th>6591</th>\n      <td>1</td>\n      <td>5500000000</td>\n      <td>0</td>\n      <td>1</td>\n      <td>1</td>\n      <td>22.428014</td>\n      <td>0</td>\n      <td>1.336613e+10</td>\n      <td>0</td>\n      <td>0</td>\n      <td>...</td>\n      <td>0</td>\n      <td>0</td>\n      <td>0</td>\n      <td>0</td>\n      <td>0</td>\n      <td>0</td>\n      <td>0</td>\n      <td>0</td>\n      <td>0</td>\n      <td>0</td>\n    </tr>\n  </tbody>\n</table>\n<p>5 rows × 30 columns</p>\n</div>"
     },
     "execution_count": 198,
     "metadata": {},
     "output_type": "execute_result"
    }
   ],
   "source": [
    "df.sample(5)"
   ],
   "metadata": {
    "collapsed": false,
    "ExecuteTime": {
     "end_time": "2024-12-29T18:43:40.604086485Z",
     "start_time": "2024-12-29T18:43:40.584291038Z"
    }
   },
   "id": "af165b08834dd562"
  },
  {
   "cell_type": "code",
   "execution_count": 4,
   "outputs": [
    {
     "name": "stdout",
     "output_type": "stream",
     "text": [
      "<class 'pandas.core.frame.DataFrame'>\n",
      "RangeIndex: 9577 entries, 0 to 9576\n",
      "Data columns (total 30 columns):\n",
      " #   Column           Non-Null Count  Dtype  \n",
      "---  ------           --------------  -----  \n",
      " 0   rooms            9577 non-null   int64  \n",
      " 1   total_price      9577 non-null   int64  \n",
      " 2   elevator         9577 non-null   int64  \n",
      " 3   parking          9577 non-null   int64  \n",
      " 4   warehouse        9577 non-null   int64  \n",
      " 5   total_price_log  9577 non-null   float64\n",
      " 6   outlier          9577 non-null   int64  \n",
      " 7   address_encoded  9577 non-null   float64\n",
      " 8   region_1         9577 non-null   int64  \n",
      " 9   region_2         9577 non-null   int64  \n",
      " 10  region_3         9577 non-null   int64  \n",
      " 11  region_4         9577 non-null   int64  \n",
      " 12  region_5         9577 non-null   int64  \n",
      " 13  region_6         9577 non-null   int64  \n",
      " 14  region_7         9577 non-null   int64  \n",
      " 15  region_8         9577 non-null   int64  \n",
      " 16  region_9         9577 non-null   int64  \n",
      " 17  region_10        9577 non-null   int64  \n",
      " 18  region_11        9577 non-null   int64  \n",
      " 19  region_12        9577 non-null   int64  \n",
      " 20  region_13        9577 non-null   int64  \n",
      " 21  region_14        9577 non-null   int64  \n",
      " 22  region_15        9577 non-null   int64  \n",
      " 23  region_16        9577 non-null   int64  \n",
      " 24  region_17        9577 non-null   int64  \n",
      " 25  region_18        9577 non-null   int64  \n",
      " 26  region_19        9577 non-null   int64  \n",
      " 27  region_20        9577 non-null   int64  \n",
      " 28  region_21        9577 non-null   int64  \n",
      " 29  region_22        9577 non-null   int64  \n",
      "dtypes: float64(2), int64(28)\n",
      "memory usage: 2.2 MB\n"
     ]
    }
   ],
   "source": [
    "df.info()"
   ],
   "metadata": {
    "collapsed": false,
    "ExecuteTime": {
     "end_time": "2024-12-29T19:24:44.163828328Z",
     "start_time": "2024-12-29T19:24:44.067579901Z"
    }
   },
   "id": "6897cafc9a60ec17"
  },
  {
   "cell_type": "code",
   "execution_count": 199,
   "outputs": [],
   "source": [
    "# df['region'] = df[[f'region_{i}' for i in range(1, 23)]].idxmax(axis=1)\n",
    "# df['region'] = df['region'].apply(lambda x: int(x.split('_')[1]))\n",
    "# df.drop([f'region_{i}' for i in range(1, 23)], axis=1, inplace=True)\n",
    "# df.info()"
   ],
   "metadata": {
    "collapsed": false,
    "ExecuteTime": {
     "end_time": "2024-12-29T18:43:53.369086532Z",
     "start_time": "2024-12-29T18:43:53.323622421Z"
    }
   },
   "id": "d23ea2033207cd92"
  },
  {
   "cell_type": "code",
   "execution_count": 5,
   "outputs": [],
   "source": [
    "# normalize features\n",
    "from sklearn.preprocessing import StandardScaler\n",
    "scaler = StandardScaler()\n",
    "df[df.columns] = scaler.fit_transform(df[df.columns])"
   ],
   "metadata": {
    "collapsed": false,
    "ExecuteTime": {
     "end_time": "2024-12-29T19:24:48.050688942Z",
     "start_time": "2024-12-29T19:24:47.912578440Z"
    }
   },
   "id": "bdd6e803d833c4e8"
  },
  {
   "cell_type": "code",
   "execution_count": 6,
   "outputs": [],
   "source": [
    "from sklearn.model_selection import train_test_split\n",
    "X = df.drop(['total_price', 'total_price_log'], axis=1)\n",
    "y = df['total_price_log']"
   ],
   "metadata": {
    "collapsed": false,
    "ExecuteTime": {
     "end_time": "2024-12-29T19:24:52.233956863Z",
     "start_time": "2024-12-29T19:24:52.141065273Z"
    }
   },
   "id": "8dd4b5c6a3b0c0db"
  },
  {
   "cell_type": "code",
   "execution_count": 7,
   "outputs": [],
   "source": [
    "# 70/30\n",
    "X_train, X_test, y_train, y_test = train_test_split(X, y, test_size=0.3)"
   ],
   "metadata": {
    "collapsed": false,
    "ExecuteTime": {
     "end_time": "2024-12-29T19:24:55.597546800Z",
     "start_time": "2024-12-29T19:24:55.554620463Z"
    }
   },
   "id": "291533eab74aa52b"
  },
  {
   "cell_type": "code",
   "execution_count": 216,
   "outputs": [
    {
     "data": {
      "text/plain": "((6703, 28), (2874, 28))"
     },
     "execution_count": 216,
     "metadata": {},
     "output_type": "execute_result"
    }
   ],
   "source": [
    "X_train.shape, X_test.shape"
   ],
   "metadata": {
    "collapsed": false,
    "ExecuteTime": {
     "end_time": "2024-12-29T18:48:00.216679380Z",
     "start_time": "2024-12-29T18:48:00.195988911Z"
    }
   },
   "id": "faa31daed12cb260"
  },
  {
   "cell_type": "code",
   "execution_count": 30,
   "outputs": [],
   "source": [
    "import numpy as np\n",
    "from sklearn.model_selection import GridSearchCV, KFold\n",
    "from sklearn.metrics import mean_squared_error\n",
    "\n",
    "def parameter_search(model, parameters, X_train, X_test, y_train, y_test):\n",
    "    \"\"\"\n",
    "    Finds the best parameters for the model using GridSearchCV and evaluates it.\n",
    "    Assumes that the target variable `y` is log-transformed with np.log1p.\n",
    "\n",
    "    Parameters:\n",
    "    - model: The model to be tuned.\n",
    "    - parameters: The parameter grid for GridSearchCV.\n",
    "    - X_train: Training feature data.\n",
    "    - X_test: Test feature data.\n",
    "    - y_train: Training target data (log-transformed).\n",
    "    - y_test: Test target data (log-transformed).\n",
    "\n",
    "    Returns:\n",
    "    - train_score: R² score on the training set.\n",
    "    - test_score: R² score on the test set.\n",
    "    - RMSE: Root Mean Squared Error on the test set (with log-transformation inverse).\n",
    "    \"\"\"\n",
    "    \n",
    "    # Set up GridSearchCV\n",
    "    grid = GridSearchCV(model, \n",
    "                        param_grid=parameters, \n",
    "                        refit=True, \n",
    "                        cv=KFold(shuffle=True, random_state=1), \n",
    "                        n_jobs=-1)\n",
    "    \n",
    "    # Fit the model and get predictions\n",
    "    grid_fit = grid.fit(X_train, y_train)\n",
    "    y_train_pred = grid_fit.predict(X_train)\n",
    "    y_pred = grid_fit.predict(X_test)\n",
    "    \n",
    "    # Calculate R² scores\n",
    "    train_score = grid_fit.score(X_train, y_train)\n",
    "    test_score = grid_fit.score(X_test, y_test)\n",
    "    \n",
    "    # Convert the predictions and true values back to the original scale\n",
    "    y_pred_original = np.expm1(y_pred)  # Inverse of np.log1p\n",
    "    y_test_original = np.expm1(y_test)  # Inverse of np.log1p\n",
    "\n",
    "    # Calculate RMSE\n",
    "    RMSE = np.sqrt(mean_squared_error(y_test_original, y_pred_original))\n",
    "    \n",
    "    model_name = str(model).split('(')[0]\n",
    "    \n",
    "    # Print the results\n",
    "    print(f\"The best parameters for {model_name} model are: {grid_fit.best_params_}\")\n",
    "    print(f\"(R² score) in the training set is {train_score:0.2%} for {model_name} model.\")\n",
    "    print(f\"(R² score) in the testing set is {test_score:0.2%} for {model_name} model.\")\n",
    "    print(f\"RMSE is {RMSE:,.2f} for {model_name} model.\")\n",
    "    \n",
    "    return train_score, test_score, RMSE"
   ],
   "metadata": {
    "collapsed": false,
    "ExecuteTime": {
     "end_time": "2024-12-29T19:52:10.368183357Z",
     "start_time": "2024-12-29T19:52:10.327023307Z"
    }
   },
   "id": "176e4c90b4f9d195"
  },
  {
   "cell_type": "markdown",
   "source": [
    "Linear Regression"
   ],
   "metadata": {
    "collapsed": false
   },
   "id": "c0d26ef4eb63d2f8"
  },
  {
   "cell_type": "code",
   "execution_count": 10,
   "outputs": [],
   "source": [
    "from sklearn.linear_model import LinearRegression"
   ],
   "metadata": {
    "collapsed": false,
    "ExecuteTime": {
     "end_time": "2024-12-29T19:25:05.639327261Z",
     "start_time": "2024-12-29T19:25:05.549152709Z"
    }
   },
   "id": "62e36da0f95fc076"
  },
  {
   "cell_type": "code",
   "execution_count": 11,
   "outputs": [
    {
     "name": "stdout",
     "output_type": "stream",
     "text": [
      "The best parameters for LinearRegression model are: {}\n",
      "(R² score) in the training set is 42.49% for LinearRegression model.\n",
      "(R² score) in the testing set is 38.74% for LinearRegression model.\n",
      "RMSE is 1.10 for LinearRegression model.\n"
     ]
    }
   ],
   "source": [
    "lr = LinearRegression()\n",
    "lr_parameters = {}\n",
    "lr_train_score, lr_test_score, lr_RMSE = parameter_search(lr, lr_parameters, X_train, X_test, y_train, y_test)"
   ],
   "metadata": {
    "collapsed": false,
    "ExecuteTime": {
     "end_time": "2024-12-29T19:25:10.271068334Z",
     "start_time": "2024-12-29T19:25:06.667392128Z"
    }
   },
   "id": "83789f4291b4d7ae"
  },
  {
   "cell_type": "markdown",
   "source": [
    "Ridge regression"
   ],
   "metadata": {
    "collapsed": false
   },
   "id": "bfc9763c06bdb4fb"
  },
  {
   "cell_type": "code",
   "execution_count": 12,
   "outputs": [],
   "source": [
    "from sklearn.linear_model import Ridge"
   ],
   "metadata": {
    "collapsed": false,
    "ExecuteTime": {
     "end_time": "2024-12-29T19:25:20.295987153Z",
     "start_time": "2024-12-29T19:25:20.273893901Z"
    }
   },
   "id": "97fd6d0791b03ae0"
  },
  {
   "cell_type": "code",
   "execution_count": 13,
   "outputs": [
    {
     "name": "stdout",
     "output_type": "stream",
     "text": [
      "The best parameters for Ridge model are: {'alpha': 100}\n",
      "(R² score) in the training set is 42.49% for Ridge model.\n",
      "(R² score) in the testing set is 38.78% for Ridge model.\n",
      "RMSE is 1.10 for Ridge model.\n"
     ]
    }
   ],
   "source": [
    "ridge = Ridge()\n",
    "ridge_parameters = {'alpha': [0.0001, 0.001, 0.01, 0.1, 1, 10, 100]}\n",
    "ridge_train_score, ridge_test_score, ridge_RMSE = parameter_search(ridge, ridge_parameters, X_train, X_test, y_train, y_test)"
   ],
   "metadata": {
    "collapsed": false,
    "ExecuteTime": {
     "end_time": "2024-12-29T19:25:24.511571835Z",
     "start_time": "2024-12-29T19:25:22.053769902Z"
    }
   },
   "id": "ed4c9d0248a4269a"
  },
  {
   "cell_type": "markdown",
   "source": [
    "Lasso regression"
   ],
   "metadata": {
    "collapsed": false
   },
   "id": "31f51bc606f3d1eb"
  },
  {
   "cell_type": "code",
   "execution_count": 14,
   "outputs": [],
   "source": [
    "from sklearn.linear_model import Lasso"
   ],
   "metadata": {
    "collapsed": false,
    "ExecuteTime": {
     "end_time": "2024-12-29T19:25:26.642325877Z",
     "start_time": "2024-12-29T19:25:26.625351911Z"
    }
   },
   "id": "a20def8047ebea15"
  },
  {
   "cell_type": "code",
   "execution_count": 15,
   "outputs": [
    {
     "name": "stdout",
     "output_type": "stream",
     "text": [
      "The best parameters for Lasso model are: {'alpha': 0.001}\n",
      "(R² score) in the training set is 42.49% for Lasso model.\n",
      "(R² score) in the testing set is 38.75% for Lasso model.\n",
      "RMSE is 1.10 for Lasso model.\n"
     ]
    }
   ],
   "source": [
    "lasso = Lasso()\n",
    "lasso_parameters = {'alpha': [0.0001, 0.001, 0.01, 0.1, 1, 10, 100]}\n",
    "lasso_train_score, lasso_test_score, lasso_RMSE = parameter_search(lasso, lasso_parameters, X_train, X_test, y_train, y_test)"
   ],
   "metadata": {
    "collapsed": false,
    "ExecuteTime": {
     "end_time": "2024-12-29T19:25:29.379443838Z",
     "start_time": "2024-12-29T19:25:28.305329900Z"
    }
   },
   "id": "9113a082563c8f7"
  },
  {
   "cell_type": "markdown",
   "source": [
    "ElasticNet regression"
   ],
   "metadata": {
    "collapsed": false
   },
   "id": "b75e336ff2f6ba28"
  },
  {
   "cell_type": "code",
   "execution_count": 16,
   "outputs": [],
   "source": [
    "from sklearn.linear_model import ElasticNet"
   ],
   "metadata": {
    "collapsed": false,
    "ExecuteTime": {
     "end_time": "2024-12-29T19:25:32.295494119Z",
     "start_time": "2024-12-29T19:25:32.291560844Z"
    }
   },
   "id": "25a8544f48fd825f"
  },
  {
   "cell_type": "code",
   "execution_count": 17,
   "outputs": [
    {
     "name": "stderr",
     "output_type": "stream",
     "text": [
      "/home/mohadeseh/.local/lib/python3.10/site-packages/sklearn/linear_model/_coordinate_descent.py:697: ConvergenceWarning: Objective did not converge. You might want to increase the number of iterations, check the scale of the features or consider increasing regularisation. Duality gap: 3.624e+00, tolerance: 5.245e-01\n",
      "  model = cd_fast.enet_coordinate_descent(\n",
      "/home/mohadeseh/.local/lib/python3.10/site-packages/sklearn/linear_model/_coordinate_descent.py:697: ConvergenceWarning: Objective did not converge. You might want to increase the number of iterations, check the scale of the features or consider increasing regularisation. Duality gap: 6.086e-01, tolerance: 5.498e-01\n",
      "  model = cd_fast.enet_coordinate_descent(\n",
      "/home/mohadeseh/.local/lib/python3.10/site-packages/sklearn/linear_model/_coordinate_descent.py:697: ConvergenceWarning: Objective did not converge. You might want to increase the number of iterations, check the scale of the features or consider increasing regularisation. Duality gap: 2.010e+00, tolerance: 5.495e-01\n",
      "  model = cd_fast.enet_coordinate_descent(\n",
      "/home/mohadeseh/.local/lib/python3.10/site-packages/sklearn/linear_model/_coordinate_descent.py:697: ConvergenceWarning: Objective did not converge. You might want to increase the number of iterations, check the scale of the features or consider increasing regularisation. Duality gap: 3.059e+00, tolerance: 5.496e-01\n",
      "  model = cd_fast.enet_coordinate_descent(\n"
     ]
    },
    {
     "name": "stdout",
     "output_type": "stream",
     "text": [
      "The best parameters for ElasticNet model are: {'alpha': 0.01, 'l1_ratio': 0.1}\n",
      "(R² score) in the training set is 42.48% for ElasticNet model.\n",
      "(R² score) in the testing set is 38.77% for ElasticNet model.\n",
      "RMSE is 1.10 for ElasticNet model.\n"
     ]
    }
   ],
   "source": [
    "elastic = ElasticNet(max_iter=10000)\n",
    "elastic_parameters = {'alpha': [0.0001, 0.001, 0.01, 0.1, 1, 10, 100],\n",
    "                      'l1_ratio': [0.1, 0.3, 0.5, 0.7, 0.9]}\n",
    "elastic_train_score, elastic_test_score, elastic_RMSE = parameter_search(elastic, elastic_parameters, X_train, X_test, y_train, y_test)"
   ],
   "metadata": {
    "collapsed": false,
    "ExecuteTime": {
     "end_time": "2024-12-29T19:25:42.912620252Z",
     "start_time": "2024-12-29T19:25:33.305182666Z"
    }
   },
   "id": "4d52985e4c588553"
  },
  {
   "cell_type": "markdown",
   "source": [
    "Decision Tree Regressor"
   ],
   "metadata": {
    "collapsed": false
   },
   "id": "3ccb850a1c018c16"
  },
  {
   "cell_type": "code",
   "execution_count": 18,
   "outputs": [],
   "source": [
    "from sklearn.tree import DecisionTreeRegressor"
   ],
   "metadata": {
    "collapsed": false,
    "ExecuteTime": {
     "end_time": "2024-12-29T19:25:53.592640145Z",
     "start_time": "2024-12-29T19:25:53.517741887Z"
    }
   },
   "id": "fdf4a17d38425766"
  },
  {
   "cell_type": "code",
   "execution_count": 19,
   "outputs": [
    {
     "name": "stdout",
     "output_type": "stream",
     "text": [
      "The best parameters for DecisionTreeRegressor model are: {'max_depth': 5, 'min_samples_leaf': 16, 'min_samples_split': 2}\n",
      "(R² score) in the training set is 44.94% for DecisionTreeRegressor model.\n",
      "(R² score) in the testing set is 40.14% for DecisionTreeRegressor model.\n",
      "RMSE is 1.08 for DecisionTreeRegressor model.\n"
     ]
    }
   ],
   "source": [
    "dt = DecisionTreeRegressor()\n",
    "dt_parameters = {'max_depth': [None, 5, 10, 15, 20],\n",
    "                 'min_samples_split': [2, 5, 10, 15, 20],\n",
    "                 'min_samples_leaf': [1, 2, 4, 8, 16]}\n",
    "dt_train_score, dt_test_score, dt_RMSE = parameter_search(dt, dt_parameters, X_train, X_test, y_train, y_test)"
   ],
   "metadata": {
    "collapsed": false,
    "ExecuteTime": {
     "end_time": "2024-12-29T19:26:01.255034720Z",
     "start_time": "2024-12-29T19:25:54.504787434Z"
    }
   },
   "id": "2db4d9cf15824f2c"
  },
  {
   "cell_type": "markdown",
   "source": [
    "Random Forest Regressor"
   ],
   "metadata": {
    "collapsed": false
   },
   "id": "d564317f01868fe7"
  },
  {
   "cell_type": "code",
   "execution_count": 20,
   "outputs": [],
   "source": [
    "from sklearn.ensemble import RandomForestRegressor"
   ],
   "metadata": {
    "collapsed": false,
    "ExecuteTime": {
     "end_time": "2024-12-29T19:26:08.787230993Z",
     "start_time": "2024-12-29T19:26:08.720890613Z"
    }
   },
   "id": "e1ceb990cd255258"
  },
  {
   "cell_type": "code",
   "execution_count": 21,
   "outputs": [
    {
     "name": "stdout",
     "output_type": "stream",
     "text": [
      "The best parameters for RandomForestRegressor model are: {'max_depth': 20, 'min_samples_leaf': 16, 'min_samples_split': 15, 'n_estimators': 200}\n",
      "(R² score) in the training set is 48.41% for RandomForestRegressor model.\n",
      "(R² score) in the testing set is 42.13% for RandomForestRegressor model.\n",
      "RMSE is 1.08 for RandomForestRegressor model.\n"
     ]
    }
   ],
   "source": [
    "rf = RandomForestRegressor()\n",
    "rf_parameters = {'n_estimators': [100, 200, 300],\n",
    "                 'max_depth': [None, 5, 10, 15, 20],\n",
    "                 'min_samples_split': [2, 5, 10, 15, 20],\n",
    "                 'min_samples_leaf': [1, 2, 4, 8, 16]}\n",
    "rf_train_score, rf_test_score, rf_RMSE = parameter_search(rf, rf_parameters, X_train, X_test, y_train, y_test)"
   ],
   "metadata": {
    "collapsed": false,
    "ExecuteTime": {
     "end_time": "2024-12-29T19:42:03.425857983Z",
     "start_time": "2024-12-29T19:26:10.905442656Z"
    }
   },
   "id": "cfcadc92adf136af"
  },
  {
   "cell_type": "markdown",
   "source": [
    "XGBoost Regressor"
   ],
   "metadata": {
    "collapsed": false
   },
   "id": "5ccc743fab9de3a2"
  },
  {
   "cell_type": "code",
   "execution_count": 22,
   "outputs": [],
   "source": [
    "from xgboost import XGBRegressor"
   ],
   "metadata": {
    "collapsed": false,
    "ExecuteTime": {
     "end_time": "2024-12-29T19:42:13.513962409Z",
     "start_time": "2024-12-29T19:42:13.455198642Z"
    }
   },
   "id": "affcf904ab5507e0"
  },
  {
   "cell_type": "code",
   "execution_count": 23,
   "outputs": [
    {
     "name": "stdout",
     "output_type": "stream",
     "text": [
      "The best parameters for XGBRegressor model are: {'learning_rate': 0.1, 'max_depth': 3, 'n_estimators': 100}\n",
      "(R² score) in the training set is 50.94% for XGBRegressor model.\n",
      "(R² score) in the testing set is 40.30% for XGBRegressor model.\n",
      "RMSE is 1.03 for XGBRegressor model.\n"
     ]
    }
   ],
   "source": [
    "xgb = XGBRegressor()\n",
    "xgb_parameters = {'n_estimators': [100, 200, 300],\n",
    "                  'max_depth': [3, 5, 7, 9],\n",
    "                  'learning_rate': [0.01, 0.1, 0.3]}\n",
    "xgb_train_score, xgb_test_score, xgb_RMSE = parameter_search(xgb, xgb_parameters, X_train, X_test, y_train, y_test)"
   ],
   "metadata": {
    "collapsed": false,
    "ExecuteTime": {
     "end_time": "2024-12-29T19:42:35.952160052Z",
     "start_time": "2024-12-29T19:42:14.681233876Z"
    }
   },
   "id": "519614a77fc2690a"
  },
  {
   "cell_type": "markdown",
   "source": [
    "SVM"
   ],
   "metadata": {
    "collapsed": false
   },
   "id": "520b18bef5158c81"
  },
  {
   "cell_type": "code",
   "execution_count": 31,
   "outputs": [],
   "source": [
    "from sklearn.svm import SVR"
   ],
   "metadata": {
    "collapsed": false,
    "ExecuteTime": {
     "end_time": "2024-12-29T19:52:13.923655086Z",
     "start_time": "2024-12-29T19:52:13.909712385Z"
    }
   },
   "id": "14e942e896f5c06d"
  },
  {
   "cell_type": "code",
   "execution_count": 32,
   "outputs": [
    {
     "name": "stdout",
     "output_type": "stream",
     "text": [
      "The best parameters for SVR model are: {'C': 10, 'epsilon': 0.2, 'kernel': 'rbf'}\n",
      "(R² score) in the training set is 46.79% for SVR model.\n",
      "(R² score) in the testing set is 42.25% for SVR model.\n",
      "RMSE is 1.05 for SVR model.\n"
     ]
    }
   ],
   "source": [
    "svm = SVR()\n",
    "svm_parameters = {'kernel': ['linear', 'poly', 'rbf', 'sigmoid'],\n",
    "                  'C': [0.1, 1, 10],\n",
    "                  'epsilon': [0.1, 0.2, 0.5]}\n",
    "svm_train_score, svm_test_score, svm_RMSE = parameter_search(svm, svm_parameters, X_train, X_test, y_train, y_test)"
   ],
   "metadata": {
    "collapsed": false,
    "ExecuteTime": {
     "end_time": "2024-12-29T19:54:47.043632714Z",
     "start_time": "2024-12-29T19:52:15.145583665Z"
    }
   },
   "id": "caa4e058b8e5cc80"
  },
  {
   "cell_type": "markdown",
   "source": [
    "Plotting the results"
   ],
   "metadata": {
    "collapsed": false
   },
   "id": "bb80a43cc6d4817e"
  },
  {
   "cell_type": "code",
   "execution_count": 33,
   "outputs": [
    {
     "data": {
      "text/plain": "<Figure size 1000x1500 with 3 Axes>",
      "image/png": "[encoded data removed]"
     },
     "metadata": {},
     "output_type": "display_data"
    }
   ],
   "source": [
    "import matplotlib.pyplot as plt\n",
    "\n",
    "models = ['Linear Regression', 'Ridge', 'Lasso', 'ElasticNet', 'Decision Tree', 'Random Forest', 'XGBoost', 'SVM']\n",
    "train_scores = [lr_train_score, ridge_train_score, lasso_train_score, elastic_train_score, dt_train_score, rf_train_score, xgb_train_score, svm_train_score]\n",
    "test_scores = [lr_test_score, ridge_test_score, lasso_test_score, elastic_test_score, dt_test_score, rf_test_score, xgb_test_score, svm_test_score]\n",
    "RMSEs = [lr_RMSE, ridge_RMSE, lasso_RMSE, elastic_RMSE, dt_RMSE, rf_RMSE, xgb_RMSE, svm_RMSE]\n",
    "\n",
    "fig, ax = plt.subplots(3, 1, figsize=(10, 15))\n",
    "\n",
    "ax[0].bar(models, train_scores, color='skyblue')\n",
    "ax[0].set_title('Training R² Scores')\n",
    "ax[0].set_ylim(0, 1)\n",
    "for i, score in enumerate(train_scores):\n",
    "    ax[0].text(i, score, f'{score:0.2%}', ha='center', va='bottom')\n",
    "    \n",
    "ax[1].bar(models, test_scores, color='salmon')\n",
    "ax[1].set_title('Testing R² Scores')\n",
    "ax[1].set_ylim(0, 1)\n",
    "for i, score in enumerate(test_scores):\n",
    "    ax[1].text(i, score, f'{score:0.2%}', ha='center', va='bottom')\n",
    "    \n",
    "ax[2].bar(models, RMSEs, color='lightgreen')\n",
    "ax[2].set_title('RMSE')\n",
    "for i, RMSE in enumerate(RMSEs):\n",
    "    ax[2].text(i, RMSE, f'{RMSE:,.2f}', ha='center', va='bottom')\n",
    "    \n",
    "plt.tight_layout()\n",
    "plt.show()"
   ],
   "metadata": {
    "collapsed": false,
    "ExecuteTime": {
     "end_time": "2024-12-29T19:57:07.254634122Z",
     "start_time": "2024-12-29T19:57:05.632647650Z"
    }
   },
   "id": "a8599c239b32bac"
  }
 ],
 "metadata": {
  "kernelspec": {
   "name": "pycharm",
   "language": "python",
   "display_name": "PyCharm"
  },
  "language_info": {
   "codemirror_mode": {
    "name": "ipython",
    "version": 2
   },
   "file_extension": ".py",
   "mimetype": "text/x-python",
   "name": "python",
   "nbconvert_exporter": "python",
   "pygments_lexer": "ipython2",
   "version": "2.7.6"
  }
 },
 "nbformat": 4,
 "nbformat_minor": 5
}
